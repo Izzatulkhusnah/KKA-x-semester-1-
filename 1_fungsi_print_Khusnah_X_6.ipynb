{
  "cells": [
    {
      "cell_type": "markdown",
      "metadata": {
        "id": "view-in-github",
        "colab_type": "text"
      },
      "source": [
        "<a href=\"https://colab.research.google.com/github/Izzatulkhusnah/KKA-x-semester-1-/blob/main/1_fungsi_print_Khusnah_X_6.ipynb\" target=\"_parent\"><img src=\"https://colab.research.google.com/assets/colab-badge.svg\" alt=\"Open In Colab\"/></a>"
      ]
    },
    {
      "cell_type": "code",
      "execution_count": 4,
      "metadata": {
        "id": "inYhb-s0ruZm"
      },
      "outputs": [],
      "source": [
        "Nama=\"Izzatul Khusnah\"\n",
        "Kelas=\"X.6\"\n",
        "Absen=17"
      ]
    },
    {
      "cell_type": "code",
      "execution_count": null,
      "metadata": {
        "colab": {
          "base_uri": "https://localhost:8080/"
        },
        "id": "6bPySHn9tixW",
        "outputId": "e81714b0-cae7-40c6-f28c-8c85a746024d"
      },
      "outputs": [
        {
          "name": "stdout",
          "output_type": "stream",
          "text": [
            "Halo dunia!\n"
          ]
        }
      ],
      "source": [
        "print(\"Halo dunia!\")"
      ]
    },
    {
      "cell_type": "code",
      "execution_count": null,
      "metadata": {
        "colab": {
          "base_uri": "https://localhost:8080/"
        },
        "id": "3VQfomxLvZgF",
        "outputId": "5f9ddd14-67af-4461-840a-2dce17df600c"
      },
      "outputs": [
        {
          "name": "stdout",
          "output_type": "stream",
          "text": [
            "Izzatul khusnah*\n"
          ]
        }
      ],
      "source": [
        "print(\"Izzatul khusnah*\")"
      ]
    },
    {
      "cell_type": "code",
      "execution_count": null,
      "metadata": {
        "colab": {
          "base_uri": "https://localhost:8080/"
        },
        "id": "P6LJ4zZ8vpKY",
        "outputId": "63981045-4908-47da-9466-f8ef70047c47"
      },
      "outputs": [
        {
          "name": "stdout",
          "output_type": "stream",
          "text": [
            "\n",
            "Nama=khusnah\n",
            "kelas=X-6\n",
            "\n"
          ]
        }
      ],
      "source": [
        "print(\"\"\"\n",
        "Nama=khusnah\n",
        "kelas=X-6\n",
        "\"\"\")"
      ]
    },
    {
      "cell_type": "code",
      "execution_count": null,
      "metadata": {
        "colab": {
          "base_uri": "https://localhost:8080/"
        },
        "id": "GRa_GFjE0i66",
        "outputId": "428a14bc-2361-4e41-8a03-746f8b7b9a66"
      },
      "outputs": [
        {
          "name": "stdout",
          "output_type": "stream",
          "text": [
            "\n",
            "halo dunia\n",
            "hari ini saya belajar bahasa python\n",
            "\n"
          ]
        }
      ],
      "source": [
        "print(\"\"\"\n",
        "halo dunia\n",
        "hari ini saya belajar bahasa python\n",
        "\"\"\")"
      ]
    },
    {
      "cell_type": "code",
      "execution_count": null,
      "metadata": {
        "colab": {
          "base_uri": "https://localhost:8080/"
        },
        "id": "rb97iUI81UbW",
        "outputId": "73ed4821-b98a-4957-a2bf-0984b06b9ccb"
      },
      "outputs": [
        {
          "name": "stdout",
          "output_type": "stream",
          "text": [
            "Izzatul Khusnah\n",
            "14\n"
          ]
        }
      ],
      "source": [
        "Nama=\"Izzatul Khusnah\"\n",
        "usia=14\n",
        "\n",
        "\n",
        "print(Nama)\n",
        "print(usia)"
      ]
    },
    {
      "cell_type": "code",
      "execution_count": null,
      "metadata": {
        "colab": {
          "base_uri": "https://localhost:8080/"
        },
        "id": "Wtxt597P3b9u",
        "outputId": "97f03bc0-f1b3-4052-d919-bca8140c0063"
      },
      "outputs": [
        {
          "name": "stdout",
          "output_type": "stream",
          "text": [
            "biru\n",
            "45\n"
          ]
        }
      ],
      "source": [
        "Warna_favorit=\"biru\"\n",
        "berat_badan=45\n",
        "\n",
        "\n",
        "print(Warna_favorit)\n",
        "print(berat_badan)"
      ]
    },
    {
      "cell_type": "code",
      "execution_count": null,
      "metadata": {
        "colab": {
          "base_uri": "https://localhost:8080/"
        },
        "id": "p8nKs_qD5QnQ",
        "outputId": "3c6f00d5-3e75-4bfc-d281-47c83ff6197a"
      },
      "outputs": [
        {
          "name": "stdout",
          "output_type": "stream",
          "text": [
            "Nama:  Izzatul Khusnah\n"
          ]
        }
      ],
      "source": [
        "print(\"Nama:  \" +Nama)"
      ]
    },
    {
      "cell_type": "code",
      "execution_count": null,
      "metadata": {
        "colab": {
          "base_uri": "https://localhost:8080/"
        },
        "id": "k0UDlFKu6FXl",
        "outputId": "3beb20eb-8955-4e8c-b3bf-69a3d4411280"
      },
      "outputs": [
        {
          "name": "stdout",
          "output_type": "stream",
          "text": [
            "berat_badan: 45\n"
          ]
        }
      ],
      "source": [
        "print(\"berat_badan: \"+str(berat_badan))"
      ]
    },
    {
      "cell_type": "code",
      "execution_count": null,
      "metadata": {
        "colab": {
          "base_uri": "https://localhost:8080/"
        },
        "id": "ZtKVTuNxzKfd",
        "outputId": "78319a70-aad5-4452-eb24-152900c90c42"
      },
      "outputs": [
        {
          "name": "stdout",
          "output_type": "stream",
          "text": [
            "Nama: Izzatul Khusnah loh\n"
          ]
        }
      ],
      "source": [
        "print(\"Nama:\",Nama,\"loh\")"
      ]
    },
    {
      "cell_type": "code",
      "execution_count": null,
      "metadata": {
        "colab": {
          "base_uri": "https://localhost:8080/"
        },
        "id": "dbhJvoK55Akx",
        "outputId": "3d963cd6-afd6-44c3-abd5-8453ba55d9c6"
      },
      "outputs": [
        {
          "name": "stdout",
          "output_type": "stream",
          "text": [
            "berat_badan: 45\n"
          ]
        }
      ],
      "source": [
        "print(\"berat_badan:\",berat_badan)"
      ]
    },
    {
      "cell_type": "code",
      "execution_count": null,
      "metadata": {
        "colab": {
          "base_uri": "https://localhost:8080/"
        },
        "id": "YHFxoIx18CMH",
        "outputId": "1eeb1fa8-44d4-4d11-ef68-802aefc5fef4"
      },
      "outputs": [
        {
          "name": "stdout",
          "output_type": "stream",
          "text": [
            "Nama: Izzatul Khusnah loh\n"
          ]
        }
      ],
      "source": [
        "print(f\"Nama: {Nama} loh\")"
      ]
    },
    {
      "cell_type": "code",
      "execution_count": null,
      "metadata": {
        "colab": {
          "base_uri": "https://localhost:8080/"
        },
        "id": "4Bo5aJDx9ssX",
        "outputId": "2ed87ac7-25c7-4635-a2bc-9cdfbf5a21c4"
      },
      "outputs": [
        {
          "output_type": "stream",
          "name": "stdout",
          "text": [
            "Nana:Izzatul khusnah\n",
            "kelas:x.6\n",
            "No.Absen:17\n"
          ]
        }
      ],
      "source": [
        "print(\"\"\"Nana:Izzatul khusnah\n",
        "kelas:x.6\n",
        "No.Absen:17\"\"\")"
      ]
    },
    {
      "cell_type": "code",
      "execution_count": null,
      "metadata": {
        "colab": {
          "base_uri": "https://localhost:8080/"
        },
        "id": "5JcJGFbn-gJS",
        "outputId": "2a02cd5f-bcb8-4db1-e2a0-be345fcd7a35"
      },
      "outputs": [
        {
          "output_type": "stream",
          "name": "stdout",
          "text": [
            "Nama:Izzatul khusnah\n",
            "kelas:x.6\n",
            "No.Absen:17\n"
          ]
        }
      ],
      "source": [
        "print(\"Nama:Izzatul khusnah\")\n",
        "print(\"kelas:x.6\")\n",
        "print(\"No.Absen:17\")"
      ]
    },
    {
      "cell_type": "code",
      "execution_count": null,
      "metadata": {
        "colab": {
          "base_uri": "https://localhost:8080/"
        },
        "id": "KhScx62--wMq",
        "outputId": "315dd83e-44d8-4070-82df-3ef2ad8ccd74"
      },
      "outputs": [
        {
          "output_type": "stream",
          "name": "stdout",
          "text": [
            "Nama:Izzatul khusnah\n",
            "kelas:x.6\n",
            "No.Absen:29\n"
          ]
        }
      ],
      "source": [
        "print(\"Nama:Izzatul khusnah\\nkelas:x.6\\nNo.Absen:29\")"
      ]
    },
    {
      "cell_type": "code",
      "execution_count": null,
      "metadata": {
        "colab": {
          "base_uri": "https://localhost:8080/"
        },
        "id": "kMav25Dh_B74",
        "outputId": "10d22010-5db4-4f60-fef7-8321f74c1669"
      },
      "outputs": [
        {
          "output_type": "stream",
          "name": "stdout",
          "text": [
            "Nama\t\t:Izzatul khusnah\n",
            "kelas\t\t:x.6\n",
            "No.Absen\t:29\n"
          ]
        }
      ],
      "source": [
        "print(\"Nama\\t\\t:Izzatul khusnah\\nkelas\\t\\t:x.6\\nNo.Absen\\t:29\")"
      ]
    },
    {
      "cell_type": "code",
      "source": [
        "print(\"lokasi file tugas KKA:C:\\\\KKA\\\\Tugas Shinta\")"
      ],
      "metadata": {
        "colab": {
          "base_uri": "https://localhost:8080/"
        },
        "id": "t_uaIwv2yWSy",
        "outputId": "71958e06-58c8-4324-ddcf-69fd89d0a050"
      },
      "execution_count": null,
      "outputs": [
        {
          "output_type": "stream",
          "name": "stdout",
          "text": [
            "lokasi file tugas KKA:C:\\KKA\\Tugas Shinta\n"
          ]
        }
      ]
    },
    {
      "cell_type": "code",
      "source": [
        "print(\"Bu Shinta berkata,\\\"Tolong perhatian ke layar TV!\\\".\")"
      ],
      "metadata": {
        "colab": {
          "base_uri": "https://localhost:8080/"
        },
        "id": "yvWoXibWwmVQ",
        "outputId": "3a7d2258-9714-4399-e0c6-4a8c59254ff8"
      },
      "execution_count": null,
      "outputs": [
        {
          "output_type": "stream",
          "name": "stdout",
          "text": [
            "Bu Shinta berkata,\"Tolong perhatian ke layar TV!\".\n"
          ]
        }
      ]
    },
    {
      "cell_type": "code",
      "source": [
        "print('Bu Shinta berkata, \"tolong perhatikan ke layar TV!\".')"
      ],
      "metadata": {
        "colab": {
          "base_uri": "https://localhost:8080/"
        },
        "id": "N0PXmiOmxJJ_",
        "outputId": "a4887094-580b-480c-b62b-ca4cf3d36860"
      },
      "execution_count": null,
      "outputs": [
        {
          "output_type": "stream",
          "name": "stdout",
          "text": [
            "Bu Shinta berkata, \"tolong perhatikan ke layar TV!\".\n"
          ]
        }
      ]
    },
    {
      "cell_type": "markdown",
      "source": [
        "#Parameter Fungsi Print"
      ],
      "metadata": {
        "id": "jpOHJ91Z7QJE"
      }
    },
    {
      "cell_type": "code",
      "source": [
        "tahun=2000\n",
        "bulan=\"februari\"\n",
        "tanggal=18\n",
        "\n",
        "print(tahun, end=\"-\")\n",
        "print(bulan, end=\"-\")\n",
        "print (tanggal)"
      ],
      "metadata": {
        "colab": {
          "base_uri": "https://localhost:8080/"
        },
        "id": "lc8_BnEs7VDx",
        "outputId": "51bbdb2e-5bc1-41de-fabd-055fee60b698"
      },
      "execution_count": null,
      "outputs": [
        {
          "output_type": "stream",
          "name": "stdout",
          "text": [
            "2000-februari-18\n"
          ]
        }
      ]
    },
    {
      "cell_type": "code",
      "source": [
        "print(tanggal, end=\"/\")\n",
        "print(bulan, end=\"/\")\n",
        "print(tahun)"
      ],
      "metadata": {
        "colab": {
          "base_uri": "https://localhost:8080/"
        },
        "id": "uS6Kd82t71a3",
        "outputId": "a6859a9e-674e-4903-e1b5-8a47e86ce79a"
      },
      "execution_count": null,
      "outputs": [
        {
          "output_type": "stream",
          "name": "stdout",
          "text": [
            "18/februari/2000\n"
          ]
        }
      ]
    },
    {
      "cell_type": "code",
      "source": [
        "nama_siswa_1=\"fida\"\n",
        "nama_siswa_2=\"aji\"\n",
        "nama_siswa_3=\"hadziq\"\n",
        "\n",
        "\n",
        "print(nama_siswa_2, end=\"~\")\n",
        "print(nama_siswa_3, end=\"~\")\n",
        "print(nama_siswa_1)"
      ],
      "metadata": {
        "colab": {
          "base_uri": "https://localhost:8080/"
        },
        "id": "WY_KMlDj9MbM",
        "outputId": "7337b397-4cf1-4e52-d814-19313f61d716"
      },
      "execution_count": null,
      "outputs": [
        {
          "output_type": "stream",
          "name": "stdout",
          "text": [
            "aji~hadziq~fida\n"
          ]
        }
      ]
    },
    {
      "cell_type": "code",
      "source": [
        "print(nama_siswa_2, nama_siswa_1,nama_siswa_3,nama_siswa_2, sep=\"-\")"
      ],
      "metadata": {
        "colab": {
          "base_uri": "https://localhost:8080/"
        },
        "id": "ScBl_Ci3BIAi",
        "outputId": "3b0d4635-22d2-4539-dde1-c3d3a3a9e524"
      },
      "execution_count": null,
      "outputs": [
        {
          "output_type": "stream",
          "name": "stdout",
          "text": [
            "aji-fida-hadziq-aji\n"
          ]
        }
      ]
    },
    {
      "cell_type": "code",
      "source": [],
      "metadata": {
        "id": "9ajG5qfXBzvi"
      },
      "execution_count": null,
      "outputs": []
    }
  ],
  "metadata": {
    "colab": {
      "provenance": [],
      "authorship_tag": "ABX9TyNJY2IV0I+8jCW1jXoqeqjI",
      "include_colab_link": true
    },
    "kernelspec": {
      "display_name": "Python 3",
      "name": "python3"
    },
    "language_info": {
      "name": "python"
    }
  },
  "nbformat": 4,
  "nbformat_minor": 0
}